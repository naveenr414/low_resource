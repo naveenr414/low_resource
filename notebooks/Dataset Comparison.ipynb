{
 "cells": [
  {
   "cell_type": "code",
   "execution_count": 1,
   "id": "0bde76f2",
   "metadata": {},
   "outputs": [],
   "source": [
    "import random\n",
    "import numpy as np\n",
    "from langdetect import detect\n",
    "from sacremoses import MosesTokenizer, MosesDetokenizer\n",
    "from laserembeddings import Laser\n",
    "from scipy import spatial"
   ]
  },
  {
   "cell_type": "code",
   "execution_count": 2,
   "id": "31e1b7c1",
   "metadata": {},
   "outputs": [],
   "source": [
    "dataset = \"paracrawl\"\n",
    "target = \"de\"\n",
    "source = \"en\"\n",
    "location = \"../data/{}-{}/processed_data/{}\".format(source,target,dataset)\n",
    "\n",
    "source_file = location+\".{}\".format(source)\n",
    "target_file = location+\".{}\".format(target)"
   ]
  },
  {
   "cell_type": "code",
   "execution_count": 3,
   "id": "7477a066",
   "metadata": {},
   "outputs": [],
   "source": [
    "num_lines = 10**5\n",
    "total_source = total_target = sum(1 for line in open(source_file))\n",
    "\n",
    "source_lines = []\n",
    "target_lines = []\n",
    "\n",
    "f = open(source_file)\n",
    "g = open(target_file)\n",
    "\n",
    "for line in f:\n",
    "    line_2 = g.readline()\n",
    "    if random.random()<num_lines/total_source:\n",
    "        source_lines.append(line.strip())\n",
    "        target_lines.append(line_2.strip())"
   ]
  },
  {
   "cell_type": "code",
   "execution_count": 4,
   "id": "e8210c86",
   "metadata": {},
   "outputs": [],
   "source": [
    "mt = MosesTokenizer(lang=source)\n",
    "source_lines_tokenized = [mt.tokenize(i) for i in source_lines]"
   ]
  },
  {
   "cell_type": "code",
   "execution_count": 5,
   "id": "dbdb40a2",
   "metadata": {},
   "outputs": [],
   "source": [
    "test_lines_source = open(\"../data/test/flores/devtest/devtest.{}\".format(source)).read().split(\"\\n\")\n",
    "test_lines_source_tokenized = [mt.tokenize(i.strip()) for i in test_lines_source]"
   ]
  },
  {
   "cell_type": "code",
   "execution_count": 6,
   "id": "5dbc14a4",
   "metadata": {},
   "outputs": [],
   "source": [
    "mt = MosesTokenizer(lang=target)\n",
    "target_lines_tokenized = [mt.tokenize(i) for i in target_lines]"
   ]
  },
  {
   "cell_type": "code",
   "execution_count": 7,
   "id": "f9a5d37e",
   "metadata": {},
   "outputs": [],
   "source": [
    "test_lines_target = open(\"../data/test/flores/devtest/devtest.{}\".format(target)).read().split(\"\\n\")\n",
    "test_lines_target_tokenized = [mt.tokenize(i.strip()) for i in test_lines_target]"
   ]
  },
  {
   "cell_type": "code",
   "execution_count": 8,
   "id": "2bafd7ef",
   "metadata": {},
   "outputs": [
    {
     "data": {
      "text/plain": [
       "('schwatzgelb: thanks for a revealing and extensive interview, mr. saftig!',\n",
       " 'schwatzgelb: danke für ein aufschlussreiches und umfangreiches interview, herr saftig!',\n",
       " '\"we now have 4-month-old mice that are non-diabetic that used to be diabetic,\" he added.',\n",
       " '„wir haben jetzt 4 monate alte mäuse, die diabetes hatten und jetzt keinen mehr haben“, fügte er hinzu.')"
      ]
     },
     "execution_count": 8,
     "metadata": {},
     "output_type": "execute_result"
    }
   ],
   "source": [
    "source_lines[0], target_lines[0], test_lines_source[0], test_lines_target[0]"
   ]
  },
  {
   "cell_type": "code",
   "execution_count": 9,
   "id": "8756cf51",
   "metadata": {},
   "outputs": [
    {
     "data": {
      "text/plain": [
       "99418"
      ]
     },
     "execution_count": 9,
     "metadata": {},
     "output_type": "execute_result"
    }
   ],
   "source": [
    "len(source_lines)"
   ]
  },
  {
   "cell_type": "code",
   "execution_count": 10,
   "id": "df7977fc",
   "metadata": {},
   "outputs": [
    {
     "data": {
      "text/plain": [
       "99418"
      ]
     },
     "execution_count": 10,
     "metadata": {},
     "output_type": "execute_result"
    }
   ],
   "source": [
    "len(target_lines)"
   ]
  },
  {
   "cell_type": "code",
   "execution_count": 11,
   "id": "9a247e0c",
   "metadata": {},
   "outputs": [],
   "source": [
    "def flatten(t):\n",
    "    return [item for sublist in t for item in sublist]"
   ]
  },
  {
   "cell_type": "code",
   "execution_count": 12,
   "id": "7795610a",
   "metadata": {},
   "outputs": [],
   "source": [
    "source_words = len(set(flatten(source_lines_tokenized)))\n",
    "target_words = len(set(flatten(target_lines_tokenized)))\n",
    "\n",
    "test_source_words = len(set(flatten(test_lines_source_tokenized)))\n",
    "test_target_words = len(set(flatten(test_lines_target_tokenized)))"
   ]
  },
  {
   "cell_type": "code",
   "execution_count": 13,
   "id": "68eaaa8a",
   "metadata": {},
   "outputs": [
    {
     "data": {
      "text/plain": [
       "(113636, 192296)"
      ]
     },
     "execution_count": 13,
     "metadata": {},
     "output_type": "execute_result"
    }
   ],
   "source": [
    "source_words, target_words"
   ]
  },
  {
   "cell_type": "code",
   "execution_count": 14,
   "id": "e517b518",
   "metadata": {},
   "outputs": [
    {
     "data": {
      "text/plain": [
       "(5784, 7192)"
      ]
     },
     "execution_count": 14,
     "metadata": {},
     "output_type": "execute_result"
    }
   ],
   "source": [
    "test_source_words, test_target_words"
   ]
  },
  {
   "cell_type": "code",
   "execution_count": 15,
   "id": "df8da0f1",
   "metadata": {},
   "outputs": [],
   "source": [
    "words_in_test_source = len(set(flatten(source_lines_tokenized)).intersection(set(flatten(test_lines_source_tokenized))))\n",
    "words_in_test_target = len(set(flatten(target_lines_tokenized)).intersection(set(flatten(test_lines_target_tokenized))))"
   ]
  },
  {
   "cell_type": "code",
   "execution_count": 16,
   "id": "7a318cc9",
   "metadata": {},
   "outputs": [
    {
     "data": {
      "text/plain": [
       "(0.89, 0.8)"
      ]
     },
     "execution_count": 16,
     "metadata": {},
     "output_type": "execute_result"
    }
   ],
   "source": [
    "round(words_in_test_source/test_source_words,2), round(words_in_test_target/test_target_words,2)"
   ]
  },
  {
   "cell_type": "code",
   "execution_count": 17,
   "id": "949c7bd8",
   "metadata": {},
   "outputs": [],
   "source": [
    "laser = Laser()"
   ]
  },
  {
   "cell_type": "code",
   "execution_count": 18,
   "id": "4a1fb085",
   "metadata": {},
   "outputs": [],
   "source": [
    "embeddings_source = laser.embed_sentences(source_lines[:1000],lang=source)"
   ]
  },
  {
   "cell_type": "code",
   "execution_count": 19,
   "id": "25fa6233",
   "metadata": {},
   "outputs": [],
   "source": [
    "embeddings_target = laser.embed_sentences(target_lines[:1000],lang=target)"
   ]
  },
  {
   "cell_type": "code",
   "execution_count": 20,
   "id": "867eb5bf",
   "metadata": {},
   "outputs": [],
   "source": [
    "similarities = [1 - spatial.distance.cosine(embeddings_source[i],embeddings_target[i]) for i in range(len(embeddings_source))]"
   ]
  },
  {
   "cell_type": "code",
   "execution_count": 21,
   "id": "84ef1af2",
   "metadata": {},
   "outputs": [
    {
     "data": {
      "text/plain": [
       "0.8738329346776008"
      ]
     },
     "execution_count": 21,
     "metadata": {},
     "output_type": "execute_result"
    }
   ],
   "source": [
    "np.mean(similarities)"
   ]
  },
  {
   "cell_type": "code",
   "execution_count": 22,
   "id": "7dd13675",
   "metadata": {},
   "outputs": [
    {
     "data": {
      "text/plain": [
       "(15.0, 15.0)"
      ]
     },
     "execution_count": 22,
     "metadata": {},
     "output_type": "execute_result"
    }
   ],
   "source": [
    "source_words_per_sentence = np.median([len(i) for i in source_lines_tokenized])\n",
    "target_words_per_sentence = np.median([len(i) for i in target_lines_tokenized])\n",
    "source_words_per_sentence, target_words_per_sentence"
   ]
  },
  {
   "cell_type": "code",
   "execution_count": 23,
   "id": "398babe6",
   "metadata": {},
   "outputs": [
    {
     "data": {
      "text/plain": [
       "23.0"
      ]
     },
     "execution_count": 23,
     "metadata": {},
     "output_type": "execute_result"
    }
   ],
   "source": [
    "np.median([len(i) for i in test_lines_source_tokenized])"
   ]
  },
  {
   "cell_type": "code",
   "execution_count": null,
   "id": "c210e61f",
   "metadata": {},
   "outputs": [],
   "source": []
  }
 ],
 "metadata": {
  "kernelspec": {
   "display_name": "Python 3 (ipykernel)",
   "language": "python",
   "name": "python3"
  },
  "language_info": {
   "codemirror_mode": {
    "name": "ipython",
    "version": 3
   },
   "file_extension": ".py",
   "mimetype": "text/x-python",
   "name": "python",
   "nbconvert_exporter": "python",
   "pygments_lexer": "ipython3",
   "version": "3.7.11"
  }
 },
 "nbformat": 4,
 "nbformat_minor": 5
}
